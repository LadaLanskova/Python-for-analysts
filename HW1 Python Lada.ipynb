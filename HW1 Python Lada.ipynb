{
 "cells": [
  {
   "cell_type": "markdown",
   "id": "c8d1f36a",
   "metadata": {},
   "source": [
    "## Задача 1:\n",
    "Оформляйте ноутбук, используя эти советы:\\\n",
    "Номер задачи - заголовок 2\\\n",
    "Номер подзадачи - заголовок 3\\\n",
    "Предоставленные наборы данных оформляйте, как код"
   ]
  },
  {
   "cell_type": "markdown",
   "id": "863d831f",
   "metadata": {},
   "source": [
    "## Задача 2:\n",
    "На складе лежат разные фрукты в разном количестве.\\\n",
    "Нужно написать функцию, которая на вход принимает любое количество названий фруктов и их количество, а возвращает общее количество фруктов на складе"
   ]
  },
  {
   "cell_type": "code",
   "execution_count": 240,
   "id": "ba96cfdf",
   "metadata": {},
   "outputs": [
    {
     "name": "stdout",
     "output_type": "stream",
     "text": [
      "Общее количество фруктов на складе = 33\n"
     ]
    }
   ],
   "source": [
    "def total(**kwargs):\n",
    "    total = sum (kwargs.values())\n",
    "    return total\n",
    "\n",
    "print('Общее количество фруктов на складе =', total (яблоки = 4, бананы = 5, мандарины = 7, персики = 9, хурма = 8))"
   ]
  },
  {
   "cell_type": "markdown",
   "id": "f6cb8563",
   "metadata": {},
   "source": [
    "## Задача 3:\n",
    "Дан список с затратами на рекламу. Но в данных есть ошибки, некоторые затраты имеют отрицательную величину. Удалите такие значения из списка и посчитайте суммарные затраты/\n",
    "Используйте list comprehensions"
   ]
  },
  {
   "cell_type": "code",
   "execution_count": 228,
   "id": "9fa9e0f2",
   "metadata": {},
   "outputs": [],
   "source": [
    "adv_cost = [100, 125, -90, 345, 655, -1, 0, 200]"
   ]
  },
  {
   "cell_type": "code",
   "execution_count": 237,
   "id": "3085b5bc",
   "metadata": {},
   "outputs": [
    {
     "name": "stdout",
     "output_type": "stream",
     "text": [
      "Список без отрицательных сумм:  [100, 125, 345, 655, 0, 200]\n",
      "Суммарные затраты = 1425\n"
     ]
    }
   ],
   "source": [
    "correct_adv_cost = [i for i in adv_cost if i >= 0]\n",
    "print ('Список без отрицательных сумм: ', correct_adv_cost)\n",
    "print('Суммарные затраты =', sum(correct_adv_cost))"
   ]
  },
  {
   "cell_type": "markdown",
   "id": "06374739",
   "metadata": {},
   "source": [
    "## Задача 4:\n",
    "Даны два списка:\n",
    "- Дата покупки\n",
    "- Суммы покупок по датам"
   ]
  },
  {
   "cell_type": "code",
   "execution_count": 230,
   "id": "b35a1eb8",
   "metadata": {},
   "outputs": [],
   "source": [
    "date = ['2021-09-14', '2021-12-15', '2021-09-08', '2021-12-05', '2021-10-09', '2021-09-30', '2021-12-22', '2021-11-29', '2021-12-24', '2021-11-26', '2021-10-27', '2021-12-18', '2021-11-09', '2021-11-23', '2021-09-27', '2021-10-02', '2021-12-27', '2021-09-20', '2021-12-13', '2021-11-01', '2021-11-09', '2021-12-06', '2021-12-08', '2021-10-09', '2021-10-31', '2021-09-30', '2021-11-09', '2021-12-13', '2021-10-26', '2021-12-09']"
   ]
  },
  {
   "cell_type": "code",
   "execution_count": 231,
   "id": "c3c454ce",
   "metadata": {},
   "outputs": [],
   "source": [
    "revenue = [1270, 8413, 9028, 3703, 5739, 4095, 295, 4944, 5723, 3701, 4471, 651, 7037, 4274, 6275, 4988, 6930, 2971, 6592, 2004, 2822, 519, 3406, 2732, 5015, 2008, 316, 6333, 5700, 2887]"
   ]
  },
  {
   "cell_type": "markdown",
   "id": "b3956934",
   "metadata": {},
   "source": [
    "### Задача 4.1: Найдите, какая выручка у компании в ноябре\n",
    "Используйте list comprehensions"
   ]
  },
  {
   "cell_type": "code",
   "execution_count": 241,
   "id": "42f2d455",
   "metadata": {},
   "outputs": [
    {
     "name": "stdout",
     "output_type": "stream",
     "text": [
      "Выручка компании в ноябре = 25098\n"
     ]
    }
   ],
   "source": [
    "print('Выручка компании в ноябре =', sum(revenue[i] for i in range(len(revenue)) if '-11-' in date[i]))"
   ]
  },
  {
   "cell_type": "markdown",
   "id": "4273fccf",
   "metadata": {},
   "source": [
    "### Задача 4.2 Найдите выручку компании в зависимости от месяца\n",
    "Для этого напишите функцию, которая на вход принимает список с датами и список с выручкой, а на выходе словарь, где ключи - это месяцы, а значения - это выручка./\n",
    "Используйте аннотирование типов."
   ]
  },
  {
   "cell_type": "code",
   "execution_count": 248,
   "id": "3f0ac34b",
   "metadata": {},
   "outputs": [
    {
     "name": "stdout",
     "output_type": "stream",
     "text": [
      "Выручка по месяцам:\n",
      " {'январь': 0, 'февраль': 0, 'март': 0, 'апрель': 0, 'май': 0, 'июнь': 0, 'июль': 0, 'август': 0, 'сентябрь': 25647, 'октябрь': 28645, 'ноябрь': 25098, 'декабрь': 45452}\n"
     ]
    }
   ],
   "source": [
    "def transform_months (d: list, r: list) -> dict:\n",
    "    result = {}\n",
    "    m_name = ['январь', 'февраль', 'март', 'апрель', 'май', 'июнь', 'июль', 'август', 'сентябрь', 'октябрь', 'ноябрь', 'декабрь']\n",
    "    m_txt = ['-01-', '-02-', '-03-', '-04-', '-05-', '-06-', '-07-', '-08-', '-09-', '-10-', '-11-', '-12-']\n",
    "    for m in range(12):\n",
    "        r_s = sum(revenue[i] for i in range(len(r)) if m_txt[m] in d[i])\n",
    "        result.update({m_name[m] : r_s })\n",
    "    return(result)\n",
    "\n",
    "print ('Выручка по месяцам:\\n', transform_months (date, revenue))"
   ]
  }
 ],
 "metadata": {
  "kernelspec": {
   "display_name": "Python 3 (ipykernel)",
   "language": "python",
   "name": "python3"
  },
  "language_info": {
   "codemirror_mode": {
    "name": "ipython",
    "version": 3
   },
   "file_extension": ".py",
   "mimetype": "text/x-python",
   "name": "python",
   "nbconvert_exporter": "python",
   "pygments_lexer": "ipython3",
   "version": "3.10.7"
  }
 },
 "nbformat": 4,
 "nbformat_minor": 5
}
